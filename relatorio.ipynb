{
 "cells": [
  {
   "cell_type": "markdown",
   "metadata": {},
   "source": [
    "# Análise de Dados - UFPB\n",
    "\n",
    "**Professor** : Marcus Carvalho\n",
    "\n",
    "Aluno: [Insira seu nome]\n",
    "\n",
    "## Laboratório: Manipulação de Dados\n",
    "\n",
    "Nesta atividade prática, você deve usar a biblioteca Pandas de Python para exercitar a manipulação dados.\n",
    "O dataset usado como exemplo será de notas de alunos em algumas turmas ofertadas para o curso de Sistemas de Informação da UFPB.\n",
    "A tabela tem duas colunas: `disciplina` e `nota`. Cada linha representa a nota final de um aluno que cursou a disciplina em uma turma.\n",
    "Por exemplo, se a disciplina \"SISTEMAS DISTRIBUIDOS\" teve 30 alunos, existirão 30 linhas com o par `<SISTEMAS DISTRIBUIDOS, nota_do_aluno>`, sendo uma para cada aluno.\n",
    "\n",
    "Carregue e manipule os dados para responder as questões. Tente usar apenas código para responder as questões nos blocos de código."
   ]
  },
  {
   "cell_type": "markdown",
   "metadata": {},
   "source": [
    "### Carregamento dos dados\n",
    "\n",
    "Para iniciar, importe as bibliotecas necessárias e carregue o arquivo `dados/exemplo_notas_si.csv` usando o Pandas e imprima o DataFrame para entender o formato dos dados."
   ]
  },
  {
   "cell_type": "code",
   "execution_count": 49,
   "metadata": {},
   "outputs": [
    {
     "data": {
      "text/html": [
       "<div>\n",
       "<style scoped>\n",
       "    .dataframe tbody tr th:only-of-type {\n",
       "        vertical-align: middle;\n",
       "    }\n",
       "\n",
       "    .dataframe tbody tr th {\n",
       "        vertical-align: top;\n",
       "    }\n",
       "\n",
       "    .dataframe thead th {\n",
       "        text-align: right;\n",
       "    }\n",
       "</style>\n",
       "<table border=\"1\" class=\"dataframe\">\n",
       "  <thead>\n",
       "    <tr style=\"text-align: right;\">\n",
       "      <th></th>\n",
       "      <th>disciplina</th>\n",
       "      <th>nota</th>\n",
       "    </tr>\n",
       "  </thead>\n",
       "  <tbody>\n",
       "    <tr>\n",
       "      <th>0</th>\n",
       "      <td>ADMINISTRAÇÃO I</td>\n",
       "      <td>7.7</td>\n",
       "    </tr>\n",
       "    <tr>\n",
       "      <th>1</th>\n",
       "      <td>ADMINISTRAÇÃO I</td>\n",
       "      <td>7.0</td>\n",
       "    </tr>\n",
       "    <tr>\n",
       "      <th>2</th>\n",
       "      <td>ADMINISTRAÇÃO I</td>\n",
       "      <td>5.5</td>\n",
       "    </tr>\n",
       "    <tr>\n",
       "      <th>3</th>\n",
       "      <td>ADMINISTRAÇÃO I</td>\n",
       "      <td>2.6</td>\n",
       "    </tr>\n",
       "    <tr>\n",
       "      <th>4</th>\n",
       "      <td>ADMINISTRAÇÃO I</td>\n",
       "      <td>5.1</td>\n",
       "    </tr>\n",
       "    <tr>\n",
       "      <th>...</th>\n",
       "      <td>...</td>\n",
       "      <td>...</td>\n",
       "    </tr>\n",
       "    <tr>\n",
       "      <th>637</th>\n",
       "      <td>SISTEMAS OPERACIONAIS</td>\n",
       "      <td>7.5</td>\n",
       "    </tr>\n",
       "    <tr>\n",
       "      <th>638</th>\n",
       "      <td>SISTEMAS OPERACIONAIS</td>\n",
       "      <td>6.5</td>\n",
       "    </tr>\n",
       "    <tr>\n",
       "      <th>639</th>\n",
       "      <td>SISTEMAS OPERACIONAIS</td>\n",
       "      <td>1.2</td>\n",
       "    </tr>\n",
       "    <tr>\n",
       "      <th>640</th>\n",
       "      <td>SISTEMAS OPERACIONAIS</td>\n",
       "      <td>7.3</td>\n",
       "    </tr>\n",
       "    <tr>\n",
       "      <th>641</th>\n",
       "      <td>SISTEMAS OPERACIONAIS</td>\n",
       "      <td>7.0</td>\n",
       "    </tr>\n",
       "  </tbody>\n",
       "</table>\n",
       "<p>642 rows × 2 columns</p>\n",
       "</div>"
      ],
      "text/plain": [
       "                disciplina  nota\n",
       "0          ADMINISTRAÇÃO I   7.7\n",
       "1          ADMINISTRAÇÃO I   7.0\n",
       "2          ADMINISTRAÇÃO I   5.5\n",
       "3          ADMINISTRAÇÃO I   2.6\n",
       "4          ADMINISTRAÇÃO I   5.1\n",
       "..                     ...   ...\n",
       "637  SISTEMAS OPERACIONAIS   7.5\n",
       "638  SISTEMAS OPERACIONAIS   6.5\n",
       "639  SISTEMAS OPERACIONAIS   1.2\n",
       "640  SISTEMAS OPERACIONAIS   7.3\n",
       "641  SISTEMAS OPERACIONAIS   7.0\n",
       "\n",
       "[642 rows x 2 columns]"
      ]
     },
     "execution_count": 49,
     "metadata": {},
     "output_type": "execute_result"
    }
   ],
   "source": [
    "# INSIRA SEU CÓDIGO AQUI\n",
    "import pandas as pd\n",
    "import numpy as np\n",
    "\n",
    "dataset = pd.read_csv(\"dados/exemplo_notas_si.csv\")\n",
    "dataset"
   ]
  },
  {
   "cell_type": "markdown",
   "metadata": {},
   "source": [
    "### Filtragem de dados\n",
    "\n",
    "Com base na tabela de notas dos alunos, aplique alguns filtros e ordenação nos dados.\n",
    "\n",
    "#### Mostre apenas as linhas com as notas igual a 10"
   ]
  },
  {
   "cell_type": "code",
   "execution_count": 50,
   "metadata": {},
   "outputs": [
    {
     "data": {
      "text/html": [
       "<div>\n",
       "<style scoped>\n",
       "    .dataframe tbody tr th:only-of-type {\n",
       "        vertical-align: middle;\n",
       "    }\n",
       "\n",
       "    .dataframe tbody tr th {\n",
       "        vertical-align: top;\n",
       "    }\n",
       "\n",
       "    .dataframe thead th {\n",
       "        text-align: right;\n",
       "    }\n",
       "</style>\n",
       "<table border=\"1\" class=\"dataframe\">\n",
       "  <thead>\n",
       "    <tr style=\"text-align: right;\">\n",
       "      <th></th>\n",
       "      <th>disciplina</th>\n",
       "      <th>nota</th>\n",
       "    </tr>\n",
       "  </thead>\n",
       "  <tbody>\n",
       "    <tr>\n",
       "      <th>62</th>\n",
       "      <td>ALGORITMOS E ESTRUTURA DE DADOS I</td>\n",
       "      <td>10.0</td>\n",
       "    </tr>\n",
       "    <tr>\n",
       "      <th>144</th>\n",
       "      <td>DESENVOLVIMENTOS DE SIST CORPORATIVOS</td>\n",
       "      <td>10.0</td>\n",
       "    </tr>\n",
       "    <tr>\n",
       "      <th>153</th>\n",
       "      <td>DESENVOLVIMENTOS DE SIST CORPORATIVOS</td>\n",
       "      <td>10.0</td>\n",
       "    </tr>\n",
       "    <tr>\n",
       "      <th>206</th>\n",
       "      <td>ETICA PROFISSIONAL</td>\n",
       "      <td>10.0</td>\n",
       "    </tr>\n",
       "    <tr>\n",
       "      <th>215</th>\n",
       "      <td>ETICA PROFISSIONAL</td>\n",
       "      <td>10.0</td>\n",
       "    </tr>\n",
       "    <tr>\n",
       "      <th>216</th>\n",
       "      <td>ETICA PROFISSIONAL</td>\n",
       "      <td>10.0</td>\n",
       "    </tr>\n",
       "    <tr>\n",
       "      <th>220</th>\n",
       "      <td>ETICA PROFISSIONAL</td>\n",
       "      <td>10.0</td>\n",
       "    </tr>\n",
       "    <tr>\n",
       "      <th>223</th>\n",
       "      <td>ETICA PROFISSIONAL</td>\n",
       "      <td>10.0</td>\n",
       "    </tr>\n",
       "    <tr>\n",
       "      <th>231</th>\n",
       "      <td>ETICA PROFISSIONAL</td>\n",
       "      <td>10.0</td>\n",
       "    </tr>\n",
       "    <tr>\n",
       "      <th>232</th>\n",
       "      <td>ETICA PROFISSIONAL</td>\n",
       "      <td>10.0</td>\n",
       "    </tr>\n",
       "    <tr>\n",
       "      <th>233</th>\n",
       "      <td>ETICA PROFISSIONAL</td>\n",
       "      <td>10.0</td>\n",
       "    </tr>\n",
       "    <tr>\n",
       "      <th>236</th>\n",
       "      <td>ETICA PROFISSIONAL</td>\n",
       "      <td>10.0</td>\n",
       "    </tr>\n",
       "    <tr>\n",
       "      <th>237</th>\n",
       "      <td>ETICA PROFISSIONAL</td>\n",
       "      <td>10.0</td>\n",
       "    </tr>\n",
       "    <tr>\n",
       "      <th>238</th>\n",
       "      <td>ETICA PROFISSIONAL</td>\n",
       "      <td>10.0</td>\n",
       "    </tr>\n",
       "    <tr>\n",
       "      <th>305</th>\n",
       "      <td>INTRODUCAO A PROGRAMACAO</td>\n",
       "      <td>10.0</td>\n",
       "    </tr>\n",
       "    <tr>\n",
       "      <th>318</th>\n",
       "      <td>INTRODUCAO A PROGRAMACAO</td>\n",
       "      <td>10.0</td>\n",
       "    </tr>\n",
       "    <tr>\n",
       "      <th>322</th>\n",
       "      <td>INTRODUCAO A PROGRAMACAO</td>\n",
       "      <td>10.0</td>\n",
       "    </tr>\n",
       "    <tr>\n",
       "      <th>514</th>\n",
       "      <td>PESQUISA APLIC A SISTEMAS DE INFORMACAO</td>\n",
       "      <td>10.0</td>\n",
       "    </tr>\n",
       "  </tbody>\n",
       "</table>\n",
       "</div>"
      ],
      "text/plain": [
       "                                  disciplina  nota\n",
       "62         ALGORITMOS E ESTRUTURA DE DADOS I  10.0\n",
       "144    DESENVOLVIMENTOS DE SIST CORPORATIVOS  10.0\n",
       "153    DESENVOLVIMENTOS DE SIST CORPORATIVOS  10.0\n",
       "206                       ETICA PROFISSIONAL  10.0\n",
       "215                       ETICA PROFISSIONAL  10.0\n",
       "216                       ETICA PROFISSIONAL  10.0\n",
       "220                       ETICA PROFISSIONAL  10.0\n",
       "223                       ETICA PROFISSIONAL  10.0\n",
       "231                       ETICA PROFISSIONAL  10.0\n",
       "232                       ETICA PROFISSIONAL  10.0\n",
       "233                       ETICA PROFISSIONAL  10.0\n",
       "236                       ETICA PROFISSIONAL  10.0\n",
       "237                       ETICA PROFISSIONAL  10.0\n",
       "238                       ETICA PROFISSIONAL  10.0\n",
       "305                 INTRODUCAO A PROGRAMACAO  10.0\n",
       "318                 INTRODUCAO A PROGRAMACAO  10.0\n",
       "322                 INTRODUCAO A PROGRAMACAO  10.0\n",
       "514  PESQUISA APLIC A SISTEMAS DE INFORMACAO  10.0"
      ]
     },
     "execution_count": 50,
     "metadata": {},
     "output_type": "execute_result"
    }
   ],
   "source": [
    "# INSIRA SEU CÓDIGO AQUI\n",
    "dataset[dataset['nota'] >= 10]\n"
   ]
  },
  {
   "cell_type": "markdown",
   "metadata": {},
   "source": [
    "#### Mostre apenas as notas da disciplina \"SISTEMAS DISTRIBUIDOS\", ordenadas da maior para a menor nota"
   ]
  },
  {
   "cell_type": "code",
   "execution_count": 51,
   "metadata": {},
   "outputs": [
    {
     "data": {
      "text/html": [
       "<div>\n",
       "<style scoped>\n",
       "    .dataframe tbody tr th:only-of-type {\n",
       "        vertical-align: middle;\n",
       "    }\n",
       "\n",
       "    .dataframe tbody tr th {\n",
       "        vertical-align: top;\n",
       "    }\n",
       "\n",
       "    .dataframe thead th {\n",
       "        text-align: right;\n",
       "    }\n",
       "</style>\n",
       "<table border=\"1\" class=\"dataframe\">\n",
       "  <thead>\n",
       "    <tr style=\"text-align: right;\">\n",
       "      <th></th>\n",
       "      <th>disciplina</th>\n",
       "      <th>nota</th>\n",
       "    </tr>\n",
       "  </thead>\n",
       "  <tbody>\n",
       "    <tr>\n",
       "      <th>608</th>\n",
       "      <td>SISTEMAS DISTRIBUIDOS</td>\n",
       "      <td>9.6</td>\n",
       "    </tr>\n",
       "    <tr>\n",
       "      <th>604</th>\n",
       "      <td>SISTEMAS DISTRIBUIDOS</td>\n",
       "      <td>9.4</td>\n",
       "    </tr>\n",
       "    <tr>\n",
       "      <th>605</th>\n",
       "      <td>SISTEMAS DISTRIBUIDOS</td>\n",
       "      <td>9.2</td>\n",
       "    </tr>\n",
       "    <tr>\n",
       "      <th>610</th>\n",
       "      <td>SISTEMAS DISTRIBUIDOS</td>\n",
       "      <td>9.2</td>\n",
       "    </tr>\n",
       "    <tr>\n",
       "      <th>611</th>\n",
       "      <td>SISTEMAS DISTRIBUIDOS</td>\n",
       "      <td>9.0</td>\n",
       "    </tr>\n",
       "    <tr>\n",
       "      <th>616</th>\n",
       "      <td>SISTEMAS DISTRIBUIDOS</td>\n",
       "      <td>8.2</td>\n",
       "    </tr>\n",
       "    <tr>\n",
       "      <th>614</th>\n",
       "      <td>SISTEMAS DISTRIBUIDOS</td>\n",
       "      <td>7.9</td>\n",
       "    </tr>\n",
       "    <tr>\n",
       "      <th>617</th>\n",
       "      <td>SISTEMAS DISTRIBUIDOS</td>\n",
       "      <td>7.9</td>\n",
       "    </tr>\n",
       "    <tr>\n",
       "      <th>612</th>\n",
       "      <td>SISTEMAS DISTRIBUIDOS</td>\n",
       "      <td>7.5</td>\n",
       "    </tr>\n",
       "    <tr>\n",
       "      <th>615</th>\n",
       "      <td>SISTEMAS DISTRIBUIDOS</td>\n",
       "      <td>7.3</td>\n",
       "    </tr>\n",
       "    <tr>\n",
       "      <th>619</th>\n",
       "      <td>SISTEMAS DISTRIBUIDOS</td>\n",
       "      <td>7.2</td>\n",
       "    </tr>\n",
       "    <tr>\n",
       "      <th>606</th>\n",
       "      <td>SISTEMAS DISTRIBUIDOS</td>\n",
       "      <td>7.1</td>\n",
       "    </tr>\n",
       "    <tr>\n",
       "      <th>618</th>\n",
       "      <td>SISTEMAS DISTRIBUIDOS</td>\n",
       "      <td>5.8</td>\n",
       "    </tr>\n",
       "    <tr>\n",
       "      <th>613</th>\n",
       "      <td>SISTEMAS DISTRIBUIDOS</td>\n",
       "      <td>5.6</td>\n",
       "    </tr>\n",
       "    <tr>\n",
       "      <th>607</th>\n",
       "      <td>SISTEMAS DISTRIBUIDOS</td>\n",
       "      <td>5.4</td>\n",
       "    </tr>\n",
       "    <tr>\n",
       "      <th>609</th>\n",
       "      <td>SISTEMAS DISTRIBUIDOS</td>\n",
       "      <td>5.3</td>\n",
       "    </tr>\n",
       "  </tbody>\n",
       "</table>\n",
       "</div>"
      ],
      "text/plain": [
       "                disciplina  nota\n",
       "608  SISTEMAS DISTRIBUIDOS   9.6\n",
       "604  SISTEMAS DISTRIBUIDOS   9.4\n",
       "605  SISTEMAS DISTRIBUIDOS   9.2\n",
       "610  SISTEMAS DISTRIBUIDOS   9.2\n",
       "611  SISTEMAS DISTRIBUIDOS   9.0\n",
       "616  SISTEMAS DISTRIBUIDOS   8.2\n",
       "614  SISTEMAS DISTRIBUIDOS   7.9\n",
       "617  SISTEMAS DISTRIBUIDOS   7.9\n",
       "612  SISTEMAS DISTRIBUIDOS   7.5\n",
       "615  SISTEMAS DISTRIBUIDOS   7.3\n",
       "619  SISTEMAS DISTRIBUIDOS   7.2\n",
       "606  SISTEMAS DISTRIBUIDOS   7.1\n",
       "618  SISTEMAS DISTRIBUIDOS   5.8\n",
       "613  SISTEMAS DISTRIBUIDOS   5.6\n",
       "607  SISTEMAS DISTRIBUIDOS   5.4\n",
       "609  SISTEMAS DISTRIBUIDOS   5.3"
      ]
     },
     "execution_count": 51,
     "metadata": {},
     "output_type": "execute_result"
    }
   ],
   "source": [
    "# INSIRA SEU CÓDIGO AQUI\n",
    "notas_sistemas = dataset[dataset[\"disciplina\"] == \"SISTEMAS DISTRIBUIDOS\"]\n",
    "notas_sistemas.sort_values(by=\"nota\", ascending=False)"
   ]
  },
  {
   "cell_type": "markdown",
   "metadata": {},
   "source": [
    "### Média geral das disciplinas\n",
    "\n",
    "Crie um novo dataframe que agrupe os dados por disciplina e aplique uma função de agregação que calcule a **média** geral das notas de cada disciplina.\n",
    "Cada disciplina terá apenas uma linha com o seu nome e média das notas de todos os alunos daquela disciplina.\n",
    "Exiba o dataframe para visualizar se deu certo."
   ]
  },
  {
   "cell_type": "code",
   "execution_count": 52,
   "metadata": {},
   "outputs": [
    {
     "data": {
      "text/html": [
       "<div>\n",
       "<style scoped>\n",
       "    .dataframe tbody tr th:only-of-type {\n",
       "        vertical-align: middle;\n",
       "    }\n",
       "\n",
       "    .dataframe tbody tr th {\n",
       "        vertical-align: top;\n",
       "    }\n",
       "\n",
       "    .dataframe thead th {\n",
       "        text-align: right;\n",
       "    }\n",
       "</style>\n",
       "<table border=\"1\" class=\"dataframe\">\n",
       "  <thead>\n",
       "    <tr style=\"text-align: right;\">\n",
       "      <th></th>\n",
       "      <th>nota</th>\n",
       "    </tr>\n",
       "    <tr>\n",
       "      <th>disciplina</th>\n",
       "      <th></th>\n",
       "    </tr>\n",
       "  </thead>\n",
       "  <tbody>\n",
       "    <tr>\n",
       "      <th>ADMINISTRAÇÃO I</th>\n",
       "      <td>7.070000</td>\n",
       "    </tr>\n",
       "    <tr>\n",
       "      <th>ALGEBRA LINEAR E GEOMETRIA ANALITICA</th>\n",
       "      <td>6.465000</td>\n",
       "    </tr>\n",
       "    <tr>\n",
       "      <th>ALGORITMOS E ESTRUTURA DE DADOS I</th>\n",
       "      <td>8.319048</td>\n",
       "    </tr>\n",
       "    <tr>\n",
       "      <th>AUDITORIA E SEGURANCA DE SISTEMAS</th>\n",
       "      <td>7.762500</td>\n",
       "    </tr>\n",
       "    <tr>\n",
       "      <th>BANCO DE DADOS I</th>\n",
       "      <td>6.662069</td>\n",
       "    </tr>\n",
       "    <tr>\n",
       "      <th>DESENVOLVIMENTOS DE SIST CORPORATIVOS</th>\n",
       "      <td>7.044000</td>\n",
       "    </tr>\n",
       "    <tr>\n",
       "      <th>ENGENHARIA DE SOFTWARE APLICADA</th>\n",
       "      <td>7.911111</td>\n",
       "    </tr>\n",
       "    <tr>\n",
       "      <th>ESTATÍSTICA</th>\n",
       "      <td>3.515789</td>\n",
       "    </tr>\n",
       "    <tr>\n",
       "      <th>ETICA PROFISSIONAL</th>\n",
       "      <td>9.715789</td>\n",
       "    </tr>\n",
       "    <tr>\n",
       "      <th>GESTÃO DA QUALIDADE DE SOFTWARE</th>\n",
       "      <td>7.420000</td>\n",
       "    </tr>\n",
       "    <tr>\n",
       "      <th>INTELIG ARTIFICIAL E SIST ESPECIALISTAS</th>\n",
       "      <td>6.005263</td>\n",
       "    </tr>\n",
       "    <tr>\n",
       "      <th>INTRODUCAO A PROGRAMACAO</th>\n",
       "      <td>8.410811</td>\n",
       "    </tr>\n",
       "    <tr>\n",
       "      <th>INTRODUCAO A SOCIOLOGIA</th>\n",
       "      <td>7.056098</td>\n",
       "    </tr>\n",
       "    <tr>\n",
       "      <th>INTRODUCAO AO COMPUTADOR</th>\n",
       "      <td>8.538462</td>\n",
       "    </tr>\n",
       "    <tr>\n",
       "      <th>INTRODUÇÃO À ÁLGEBRA LINEAR</th>\n",
       "      <td>4.526316</td>\n",
       "    </tr>\n",
       "    <tr>\n",
       "      <th>MATEMÁTICA ELEMENTAR</th>\n",
       "      <td>5.490476</td>\n",
       "    </tr>\n",
       "    <tr>\n",
       "      <th>METODOLOGIA CIENTÍFICA</th>\n",
       "      <td>8.228571</td>\n",
       "    </tr>\n",
       "    <tr>\n",
       "      <th>PESQUISA APLIC A SISTEMAS DE INFORMACAO</th>\n",
       "      <td>9.166667</td>\n",
       "    </tr>\n",
       "    <tr>\n",
       "      <th>PORTUGUES INSTRUMENTAL</th>\n",
       "      <td>8.192308</td>\n",
       "    </tr>\n",
       "    <tr>\n",
       "      <th>PROBABILIDADE E ESTATISTICA</th>\n",
       "      <td>8.030435</td>\n",
       "    </tr>\n",
       "    <tr>\n",
       "      <th>PROGRAMACAO ORIENTADA A OBJETOS</th>\n",
       "      <td>7.558824</td>\n",
       "    </tr>\n",
       "    <tr>\n",
       "      <th>REDES DE COMPUTADORES</th>\n",
       "      <td>7.275000</td>\n",
       "    </tr>\n",
       "    <tr>\n",
       "      <th>SISTEMAS DE APOIO A GESTÃO</th>\n",
       "      <td>8.221053</td>\n",
       "    </tr>\n",
       "    <tr>\n",
       "      <th>SISTEMAS DISTRIBUIDOS</th>\n",
       "      <td>7.600000</td>\n",
       "    </tr>\n",
       "    <tr>\n",
       "      <th>SISTEMAS OPERACIONAIS</th>\n",
       "      <td>6.250000</td>\n",
       "    </tr>\n",
       "  </tbody>\n",
       "</table>\n",
       "</div>"
      ],
      "text/plain": [
       "                                             nota\n",
       "disciplina                                       \n",
       "ADMINISTRAÇÃO I                          7.070000\n",
       "ALGEBRA LINEAR E GEOMETRIA ANALITICA     6.465000\n",
       "ALGORITMOS E ESTRUTURA DE DADOS I        8.319048\n",
       "AUDITORIA E SEGURANCA DE SISTEMAS        7.762500\n",
       "BANCO DE DADOS I                         6.662069\n",
       "DESENVOLVIMENTOS DE SIST CORPORATIVOS    7.044000\n",
       "ENGENHARIA DE SOFTWARE APLICADA          7.911111\n",
       "ESTATÍSTICA                              3.515789\n",
       "ETICA PROFISSIONAL                       9.715789\n",
       "GESTÃO DA QUALIDADE DE SOFTWARE          7.420000\n",
       "INTELIG ARTIFICIAL E SIST ESPECIALISTAS  6.005263\n",
       "INTRODUCAO A PROGRAMACAO                 8.410811\n",
       "INTRODUCAO A SOCIOLOGIA                  7.056098\n",
       "INTRODUCAO AO COMPUTADOR                 8.538462\n",
       "INTRODUÇÃO À ÁLGEBRA LINEAR              4.526316\n",
       "MATEMÁTICA ELEMENTAR                     5.490476\n",
       "METODOLOGIA CIENTÍFICA                   8.228571\n",
       "PESQUISA APLIC A SISTEMAS DE INFORMACAO  9.166667\n",
       "PORTUGUES INSTRUMENTAL                   8.192308\n",
       "PROBABILIDADE E ESTATISTICA              8.030435\n",
       "PROGRAMACAO ORIENTADA A OBJETOS          7.558824\n",
       "REDES DE COMPUTADORES                    7.275000\n",
       "SISTEMAS DE APOIO A GESTÃO               8.221053\n",
       "SISTEMAS DISTRIBUIDOS                    7.600000\n",
       "SISTEMAS OPERACIONAIS                    6.250000"
      ]
     },
     "execution_count": 52,
     "metadata": {},
     "output_type": "execute_result"
    }
   ],
   "source": [
    "# INSIRA SEU CÓDIGO AQUI\n",
    "disc_media = dataset.groupby([\"disciplina\"]).mean()\n",
    "disc_media"
   ]
  },
  {
   "cell_type": "markdown",
   "metadata": {},
   "source": [
    "#### Qual disciplina teve a maior média?"
   ]
  },
  {
   "cell_type": "code",
   "execution_count": 53,
   "metadata": {},
   "outputs": [
    {
     "data": {
      "text/html": [
       "<div>\n",
       "<style scoped>\n",
       "    .dataframe tbody tr th:only-of-type {\n",
       "        vertical-align: middle;\n",
       "    }\n",
       "\n",
       "    .dataframe tbody tr th {\n",
       "        vertical-align: top;\n",
       "    }\n",
       "\n",
       "    .dataframe thead th {\n",
       "        text-align: right;\n",
       "    }\n",
       "</style>\n",
       "<table border=\"1\" class=\"dataframe\">\n",
       "  <thead>\n",
       "    <tr style=\"text-align: right;\">\n",
       "      <th></th>\n",
       "      <th>nota</th>\n",
       "    </tr>\n",
       "    <tr>\n",
       "      <th>disciplina</th>\n",
       "      <th></th>\n",
       "    </tr>\n",
       "  </thead>\n",
       "  <tbody>\n",
       "    <tr>\n",
       "      <th>ETICA PROFISSIONAL</th>\n",
       "      <td>9.715789</td>\n",
       "    </tr>\n",
       "  </tbody>\n",
       "</table>\n",
       "</div>"
      ],
      "text/plain": [
       "                        nota\n",
       "disciplina                  \n",
       "ETICA PROFISSIONAL  9.715789"
      ]
     },
     "execution_count": 53,
     "metadata": {},
     "output_type": "execute_result"
    }
   ],
   "source": [
    "# INSIRA SEU CÓDIGO AQUI\n",
    "# Etica profissional\n",
    "disc_media.sort_values(by='nota', ascending=False).head(1)"
   ]
  },
  {
   "cell_type": "markdown",
   "metadata": {},
   "source": [
    "#### Qual disciplina teve a menor média?"
   ]
  },
  {
   "cell_type": "code",
   "execution_count": 54,
   "metadata": {},
   "outputs": [
    {
     "data": {
      "text/html": [
       "<div>\n",
       "<style scoped>\n",
       "    .dataframe tbody tr th:only-of-type {\n",
       "        vertical-align: middle;\n",
       "    }\n",
       "\n",
       "    .dataframe tbody tr th {\n",
       "        vertical-align: top;\n",
       "    }\n",
       "\n",
       "    .dataframe thead th {\n",
       "        text-align: right;\n",
       "    }\n",
       "</style>\n",
       "<table border=\"1\" class=\"dataframe\">\n",
       "  <thead>\n",
       "    <tr style=\"text-align: right;\">\n",
       "      <th></th>\n",
       "      <th>nota</th>\n",
       "    </tr>\n",
       "    <tr>\n",
       "      <th>disciplina</th>\n",
       "      <th></th>\n",
       "    </tr>\n",
       "  </thead>\n",
       "  <tbody>\n",
       "    <tr>\n",
       "      <th>ESTATÍSTICA</th>\n",
       "      <td>3.515789</td>\n",
       "    </tr>\n",
       "  </tbody>\n",
       "</table>\n",
       "</div>"
      ],
      "text/plain": [
       "                 nota\n",
       "disciplina           \n",
       "ESTATÍSTICA  3.515789"
      ]
     },
     "execution_count": 54,
     "metadata": {},
     "output_type": "execute_result"
    }
   ],
   "source": [
    "# INSIRA SEU CÓDIGO AQUI]\n",
    "# Estatistica\n",
    "disc_media.sort_values(by='nota').head(1)"
   ]
  },
  {
   "cell_type": "markdown",
   "metadata": {},
   "source": [
    "### Quantidade de alunos por disciplina\n",
    "\n",
    "Crie um novo dataframe que calcule a quantidade de alunos por disciplina."
   ]
  },
  {
   "cell_type": "code",
   "execution_count": 55,
   "metadata": {},
   "outputs": [
    {
     "data": {
      "text/plain": [
       "disciplina                             \n",
       "MATEMÁTICA ELEMENTAR                       42\n",
       "INTRODUCAO A SOCIOLOGIA                    41\n",
       "ADMINISTRAÇÃO I                            40\n",
       "INTRODUCAO AO COMPUTADOR                   39\n",
       "ETICA PROFISSIONAL                         38\n",
       "INTRODUCAO A PROGRAMACAO                   37\n",
       "METODOLOGIA CIENTÍFICA                     35\n",
       "GESTÃO DA QUALIDADE DE SOFTWARE            30\n",
       "BANCO DE DADOS I                           29\n",
       "ENGENHARIA DE SOFTWARE APLICADA            27\n",
       "DESENVOLVIMENTOS DE SIST CORPORATIVOS      25\n",
       "AUDITORIA E SEGURANCA DE SISTEMAS          24\n",
       "PROBABILIDADE E ESTATISTICA                23\n",
       "SISTEMAS OPERACIONAIS                      22\n",
       "ALGORITMOS E ESTRUTURA DE DADOS I          21\n",
       "ALGEBRA LINEAR E GEOMETRIA ANALITICA       20\n",
       "INTELIG ARTIFICIAL E SIST ESPECIALISTAS    19\n",
       "ESTATÍSTICA                                19\n",
       "SISTEMAS DE APOIO A GESTÃO                 19\n",
       "INTRODUÇÃO À ÁLGEBRA LINEAR                19\n",
       "PROGRAMACAO ORIENTADA A OBJETOS            17\n",
       "SISTEMAS DISTRIBUIDOS                      16\n",
       "PESQUISA APLIC A SISTEMAS DE INFORMACAO    15\n",
       "PORTUGUES INSTRUMENTAL                     13\n",
       "REDES DE COMPUTADORES                      12\n",
       "Name: count, dtype: int64"
      ]
     },
     "execution_count": 55,
     "metadata": {},
     "output_type": "execute_result"
    }
   ],
   "source": [
    "# INSIRA SEU CÓDIGO AQUI\n",
    "quant_alunos = dataset[['disciplina']].value_counts()\n",
    "quant_alunos\n"
   ]
  },
  {
   "cell_type": "markdown",
   "metadata": {},
   "source": [
    "#### Qual disciplina teve a maior quantidade de alunos?"
   ]
  },
  {
   "cell_type": "code",
   "execution_count": 56,
   "metadata": {},
   "outputs": [
    {
     "data": {
      "text/plain": [
       "disciplina          \n",
       "MATEMÁTICA ELEMENTAR    42\n",
       "Name: count, dtype: int64"
      ]
     },
     "execution_count": 56,
     "metadata": {},
     "output_type": "execute_result"
    }
   ],
   "source": [
    "# INSIRA SEU CÓDIGO AQUI\n",
    "# Matematica Elementar\n",
    "quant_alunos.sort_values(ascending=False).head(1)"
   ]
  },
  {
   "cell_type": "markdown",
   "metadata": {},
   "source": [
    "#### Qual disciplina teve a menor quantidade de alunos?"
   ]
  },
  {
   "cell_type": "code",
   "execution_count": 57,
   "metadata": {},
   "outputs": [
    {
     "data": {
      "text/plain": [
       "disciplina           \n",
       "REDES DE COMPUTADORES    12\n",
       "Name: count, dtype: int64"
      ]
     },
     "execution_count": 57,
     "metadata": {},
     "output_type": "execute_result"
    }
   ],
   "source": [
    "# INSIRA SEU CÓDIGO AQUI\n",
    "#Redes de computadores\n",
    "quant_alunos.sort_values().head(1)"
   ]
  },
  {
   "cell_type": "markdown",
   "metadata": {},
   "source": [
    "### Percentual de aprovados por disciplina\n",
    "\n",
    "Crie um novo dataframe que calcule o percentual de alunos por disciplina, considerando que a nota mínima para aprovação é 5.\n"
   ]
  },
  {
   "cell_type": "code",
   "execution_count": 58,
   "metadata": {},
   "outputs": [
    {
     "data": {
      "text/html": [
       "<div>\n",
       "<style scoped>\n",
       "    .dataframe tbody tr th:only-of-type {\n",
       "        vertical-align: middle;\n",
       "    }\n",
       "\n",
       "    .dataframe tbody tr th {\n",
       "        vertical-align: top;\n",
       "    }\n",
       "\n",
       "    .dataframe thead th {\n",
       "        text-align: right;\n",
       "    }\n",
       "</style>\n",
       "<table border=\"1\" class=\"dataframe\">\n",
       "  <thead>\n",
       "    <tr style=\"text-align: right;\">\n",
       "      <th></th>\n",
       "      <th>disciplina</th>\n",
       "      <th>nota</th>\n",
       "      <th>resultado</th>\n",
       "    </tr>\n",
       "  </thead>\n",
       "  <tbody>\n",
       "    <tr>\n",
       "      <th>0</th>\n",
       "      <td>ADMINISTRAÇÃO I</td>\n",
       "      <td>7.7</td>\n",
       "      <td>APROVADO</td>\n",
       "    </tr>\n",
       "    <tr>\n",
       "      <th>1</th>\n",
       "      <td>ADMINISTRAÇÃO I</td>\n",
       "      <td>7.0</td>\n",
       "      <td>APROVADO</td>\n",
       "    </tr>\n",
       "    <tr>\n",
       "      <th>2</th>\n",
       "      <td>ADMINISTRAÇÃO I</td>\n",
       "      <td>5.5</td>\n",
       "      <td>APROVADO</td>\n",
       "    </tr>\n",
       "    <tr>\n",
       "      <th>3</th>\n",
       "      <td>ADMINISTRAÇÃO I</td>\n",
       "      <td>2.6</td>\n",
       "      <td>REPROVADO</td>\n",
       "    </tr>\n",
       "    <tr>\n",
       "      <th>4</th>\n",
       "      <td>ADMINISTRAÇÃO I</td>\n",
       "      <td>5.1</td>\n",
       "      <td>APROVADO</td>\n",
       "    </tr>\n",
       "    <tr>\n",
       "      <th>...</th>\n",
       "      <td>...</td>\n",
       "      <td>...</td>\n",
       "      <td>...</td>\n",
       "    </tr>\n",
       "    <tr>\n",
       "      <th>637</th>\n",
       "      <td>SISTEMAS OPERACIONAIS</td>\n",
       "      <td>7.5</td>\n",
       "      <td>APROVADO</td>\n",
       "    </tr>\n",
       "    <tr>\n",
       "      <th>638</th>\n",
       "      <td>SISTEMAS OPERACIONAIS</td>\n",
       "      <td>6.5</td>\n",
       "      <td>APROVADO</td>\n",
       "    </tr>\n",
       "    <tr>\n",
       "      <th>639</th>\n",
       "      <td>SISTEMAS OPERACIONAIS</td>\n",
       "      <td>1.2</td>\n",
       "      <td>REPROVADO</td>\n",
       "    </tr>\n",
       "    <tr>\n",
       "      <th>640</th>\n",
       "      <td>SISTEMAS OPERACIONAIS</td>\n",
       "      <td>7.3</td>\n",
       "      <td>APROVADO</td>\n",
       "    </tr>\n",
       "    <tr>\n",
       "      <th>641</th>\n",
       "      <td>SISTEMAS OPERACIONAIS</td>\n",
       "      <td>7.0</td>\n",
       "      <td>APROVADO</td>\n",
       "    </tr>\n",
       "  </tbody>\n",
       "</table>\n",
       "<p>642 rows × 3 columns</p>\n",
       "</div>"
      ],
      "text/plain": [
       "                disciplina  nota  resultado\n",
       "0          ADMINISTRAÇÃO I   7.7   APROVADO\n",
       "1          ADMINISTRAÇÃO I   7.0   APROVADO\n",
       "2          ADMINISTRAÇÃO I   5.5   APROVADO\n",
       "3          ADMINISTRAÇÃO I   2.6  REPROVADO\n",
       "4          ADMINISTRAÇÃO I   5.1   APROVADO\n",
       "..                     ...   ...        ...\n",
       "637  SISTEMAS OPERACIONAIS   7.5   APROVADO\n",
       "638  SISTEMAS OPERACIONAIS   6.5   APROVADO\n",
       "639  SISTEMAS OPERACIONAIS   1.2  REPROVADO\n",
       "640  SISTEMAS OPERACIONAIS   7.3   APROVADO\n",
       "641  SISTEMAS OPERACIONAIS   7.0   APROVADO\n",
       "\n",
       "[642 rows x 3 columns]"
      ]
     },
     "execution_count": 58,
     "metadata": {},
     "output_type": "execute_result"
    }
   ],
   "source": [
    "def aprovacao(nota):\n",
    "    return \"APROVADO\" if nota >=5 else \"REPROVADO\"\n",
    "\n",
    "dataset['resultado'] = dataset['nota'].apply(aprovacao)\n",
    "dataset"
   ]
  },
  {
   "cell_type": "code",
   "execution_count": 59,
   "metadata": {},
   "outputs": [
    {
     "data": {
      "text/plain": [
       "disciplina\n",
       "ADMINISTRAÇÃO I                            0.950000\n",
       "ALGEBRA LINEAR E GEOMETRIA ANALITICA       0.700000\n",
       "ALGORITMOS E ESTRUTURA DE DADOS I          1.000000\n",
       "AUDITORIA E SEGURANCA DE SISTEMAS          0.958333\n",
       "BANCO DE DADOS I                           0.896552\n",
       "DESENVOLVIMENTOS DE SIST CORPORATIVOS      0.920000\n",
       "ENGENHARIA DE SOFTWARE APLICADA            0.962963\n",
       "ESTATÍSTICA                                0.315789\n",
       "ETICA PROFISSIONAL                         1.000000\n",
       "GESTÃO DA QUALIDADE DE SOFTWARE            1.000000\n",
       "INTELIG ARTIFICIAL E SIST ESPECIALISTAS    0.736842\n",
       "INTRODUCAO A PROGRAMACAO                   0.972973\n",
       "INTRODUCAO A SOCIOLOGIA                    0.878049\n",
       "INTRODUCAO AO COMPUTADOR                   0.948718\n",
       "INTRODUÇÃO À ÁLGEBRA LINEAR                0.526316\n",
       "MATEMÁTICA ELEMENTAR                       0.714286\n",
       "METODOLOGIA CIENTÍFICA                     1.000000\n",
       "PESQUISA APLIC A SISTEMAS DE INFORMACAO    1.000000\n",
       "PORTUGUES INSTRUMENTAL                     1.000000\n",
       "PROBABILIDADE E ESTATISTICA                1.000000\n",
       "PROGRAMACAO ORIENTADA A OBJETOS            1.000000\n",
       "REDES DE COMPUTADORES                      0.833333\n",
       "SISTEMAS DE APOIO A GESTÃO                 1.000000\n",
       "SISTEMAS DISTRIBUIDOS                      1.000000\n",
       "SISTEMAS OPERACIONAIS                      0.818182\n",
       "dtype: float64"
      ]
     },
     "execution_count": 59,
     "metadata": {},
     "output_type": "execute_result"
    }
   ],
   "source": [
    "# INSIRA SEU CÓDIGO AQUI\n",
    "def prop_aprovados(df, col=\"nota\", nota_aprovacao=5):\n",
    "    return len(df[df[\"nota\"] >= nota_aprovacao].index) / len(df.index)\n",
    "    \n",
    "percent_aprovacao = dataset.groupby(['disciplina']).apply(prop_aprovados)\n",
    "percent_aprovacao\n"
   ]
  },
  {
   "cell_type": "markdown",
   "metadata": {},
   "source": [
    "#### Qual a disciplina com a maior taxa de aprovação?\n"
   ]
  },
  {
   "cell_type": "code",
   "execution_count": 60,
   "metadata": {},
   "outputs": [
    {
     "data": {
      "text/plain": [
       "disciplina\n",
       "ETICA PROFISSIONAL    1.0\n",
       "dtype: float64"
      ]
     },
     "execution_count": 60,
     "metadata": {},
     "output_type": "execute_result"
    }
   ],
   "source": [
    "# INSIRA SEU CÓDIGO AQUI\n",
    "# Etica profissional é apontada como a maior taxa de aprovação\n",
    "# Porém há outras disciplinas com taxa de aprovação igual a 100%\n",
    "# Fazendo assim elas estarem empatadas como maiores taxas de aprovação\n",
    "\n",
    "percent_aprovacao.sort_values(ascending=False).head(1)"
   ]
  },
  {
   "cell_type": "code",
   "execution_count": 68,
   "metadata": {},
   "outputs": [
    {
     "data": {
      "text/plain": [
       "disciplina\n",
       "ALGORITMOS E ESTRUTURA DE DADOS I          1.0\n",
       "ETICA PROFISSIONAL                         1.0\n",
       "GESTÃO DA QUALIDADE DE SOFTWARE            1.0\n",
       "METODOLOGIA CIENTÍFICA                     1.0\n",
       "PESQUISA APLIC A SISTEMAS DE INFORMACAO    1.0\n",
       "PORTUGUES INSTRUMENTAL                     1.0\n",
       "PROBABILIDADE E ESTATISTICA                1.0\n",
       "PROGRAMACAO ORIENTADA A OBJETOS            1.0\n",
       "SISTEMAS DE APOIO A GESTÃO                 1.0\n",
       "SISTEMAS DISTRIBUIDOS                      1.0\n",
       "dtype: float64"
      ]
     },
     "execution_count": 68,
     "metadata": {},
     "output_type": "execute_result"
    }
   ],
   "source": [
    "percent_aprovacao[percent_aprovacao == 1 ]"
   ]
  },
  {
   "cell_type": "markdown",
   "metadata": {},
   "source": [
    "#### Qual a disciplina com a menor taxa de aprovação?\n"
   ]
  },
  {
   "cell_type": "code",
   "execution_count": 62,
   "metadata": {},
   "outputs": [
    {
     "data": {
      "text/plain": [
       "disciplina\n",
       "ESTATÍSTICA    0.315789\n",
       "dtype: float64"
      ]
     },
     "execution_count": 62,
     "metadata": {},
     "output_type": "execute_result"
    }
   ],
   "source": [
    "# INSIRA SEU CÓDIGO AQUI\n",
    "# Estatística\n",
    "percent_aprovacao.sort_values().head(1)"
   ]
  }
 ],
 "metadata": {
  "kernelspec": {
   "display_name": "Python 3.10.1 64-bit",
   "language": "python",
   "name": "python3"
  },
  "language_info": {
   "codemirror_mode": {
    "name": "ipython",
    "version": 3
   },
   "file_extension": ".py",
   "mimetype": "text/x-python",
   "name": "python",
   "nbconvert_exporter": "python",
   "pygments_lexer": "ipython3",
   "version": "3.11.5"
  },
  "orig_nbformat": 4,
  "vscode": {
   "interpreter": {
    "hash": "369f2c481f4da34e4445cda3fffd2e751bd1c4d706f27375911949ba6bb62e1c"
   }
  }
 },
 "nbformat": 4,
 "nbformat_minor": 2
}

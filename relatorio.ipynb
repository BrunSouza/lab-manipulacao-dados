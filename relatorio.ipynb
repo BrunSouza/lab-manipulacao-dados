{
 "cells": [
  {
   "cell_type": "markdown",
   "metadata": {},
   "source": [
    "# Análise de Dados - UFPB\n",
    "\n",
    "**Professor** : Marcus Carvalho\n",
    "\n",
    "Aluno: [Insira seu nome]\n",
    "\n",
    "## Laboratório: Manipulação de Dados\n",
    "\n",
    "Nesta atividade prática, você deve usar a biblioteca Pandas de Python para exercitar a manipulação dados.\n",
    "O dataset usado como exemplo será de notas de alunos em algumas turmas ofertadas para o curso de Sistemas de Informação da UFPB.\n",
    "A tabela tem duas colunas: `disciplina` e `nota`. Cada linha representa a nota final de um aluno que cursou a disciplina em uma turma.\n",
    "Por exemplo, se a disciplina \"SISTEMAS DISTRIBUIDOS\" teve 30 alunos, existirão 30 linhas com o par `<SISTEMAS DISTRIBUIDOS, nota_do_aluno>`, sendo uma para cada aluno.\n",
    "\n",
    "Carregue e manipule os dados para responder as questões. Tente usar apenas código para responder as questões nos blocos de código."
   ]
  },
  {
   "cell_type": "markdown",
   "metadata": {},
   "source": [
    "### Carregamento dos dados\n",
    "\n",
    "Para iniciar, importe as bibliotecas necessárias e carregue o arquivo `dados/exemplo_notas_si.csv` usando o Pandas e imprima o DataFrame para entender o formato dos dados."
   ]
  },
  {
   "cell_type": "code",
   "execution_count": 85,
   "metadata": {},
   "outputs": [
    {
     "data": {
      "text/html": [
       "<div>\n",
       "<style scoped>\n",
       "    .dataframe tbody tr th:only-of-type {\n",
       "        vertical-align: middle;\n",
       "    }\n",
       "\n",
       "    .dataframe tbody tr th {\n",
       "        vertical-align: top;\n",
       "    }\n",
       "\n",
       "    .dataframe thead th {\n",
       "        text-align: right;\n",
       "    }\n",
       "</style>\n",
       "<table border=\"1\" class=\"dataframe\">\n",
       "  <thead>\n",
       "    <tr style=\"text-align: right;\">\n",
       "      <th></th>\n",
       "      <th>disciplina</th>\n",
       "      <th>nota</th>\n",
       "    </tr>\n",
       "  </thead>\n",
       "  <tbody>\n",
       "    <tr>\n",
       "      <th>0</th>\n",
       "      <td>ADMINISTRAÇÃO I</td>\n",
       "      <td>7.7</td>\n",
       "    </tr>\n",
       "    <tr>\n",
       "      <th>1</th>\n",
       "      <td>ADMINISTRAÇÃO I</td>\n",
       "      <td>7.0</td>\n",
       "    </tr>\n",
       "    <tr>\n",
       "      <th>2</th>\n",
       "      <td>ADMINISTRAÇÃO I</td>\n",
       "      <td>5.5</td>\n",
       "    </tr>\n",
       "    <tr>\n",
       "      <th>3</th>\n",
       "      <td>ADMINISTRAÇÃO I</td>\n",
       "      <td>2.6</td>\n",
       "    </tr>\n",
       "    <tr>\n",
       "      <th>4</th>\n",
       "      <td>ADMINISTRAÇÃO I</td>\n",
       "      <td>5.1</td>\n",
       "    </tr>\n",
       "    <tr>\n",
       "      <th>...</th>\n",
       "      <td>...</td>\n",
       "      <td>...</td>\n",
       "    </tr>\n",
       "    <tr>\n",
       "      <th>637</th>\n",
       "      <td>SISTEMAS OPERACIONAIS</td>\n",
       "      <td>7.5</td>\n",
       "    </tr>\n",
       "    <tr>\n",
       "      <th>638</th>\n",
       "      <td>SISTEMAS OPERACIONAIS</td>\n",
       "      <td>6.5</td>\n",
       "    </tr>\n",
       "    <tr>\n",
       "      <th>639</th>\n",
       "      <td>SISTEMAS OPERACIONAIS</td>\n",
       "      <td>1.2</td>\n",
       "    </tr>\n",
       "    <tr>\n",
       "      <th>640</th>\n",
       "      <td>SISTEMAS OPERACIONAIS</td>\n",
       "      <td>7.3</td>\n",
       "    </tr>\n",
       "    <tr>\n",
       "      <th>641</th>\n",
       "      <td>SISTEMAS OPERACIONAIS</td>\n",
       "      <td>7.0</td>\n",
       "    </tr>\n",
       "  </tbody>\n",
       "</table>\n",
       "<p>642 rows × 2 columns</p>\n",
       "</div>"
      ],
      "text/plain": [
       "                disciplina  nota\n",
       "0          ADMINISTRAÇÃO I   7.7\n",
       "1          ADMINISTRAÇÃO I   7.0\n",
       "2          ADMINISTRAÇÃO I   5.5\n",
       "3          ADMINISTRAÇÃO I   2.6\n",
       "4          ADMINISTRAÇÃO I   5.1\n",
       "..                     ...   ...\n",
       "637  SISTEMAS OPERACIONAIS   7.5\n",
       "638  SISTEMAS OPERACIONAIS   6.5\n",
       "639  SISTEMAS OPERACIONAIS   1.2\n",
       "640  SISTEMAS OPERACIONAIS   7.3\n",
       "641  SISTEMAS OPERACIONAIS   7.0\n",
       "\n",
       "[642 rows x 2 columns]"
      ]
     },
     "execution_count": 85,
     "metadata": {},
     "output_type": "execute_result"
    }
   ],
   "source": [
    "# INSIRA SEU CÓDIGO AQUI\n",
    "import pandas as pd\n",
    "import numpy as np\n",
    "\n",
    "dataset = pd.read_csv(\"dados/exemplo_notas_si.csv\")\n",
    "dataset"
   ]
  },
  {
   "cell_type": "markdown",
   "metadata": {},
   "source": [
    "### Filtragem de dados\n",
    "\n",
    "Com base na tabela de notas dos alunos, aplique alguns filtros e ordenação nos dados.\n",
    "\n",
    "#### Mostre apenas as linhas com as notas igual a 10"
   ]
  },
  {
   "cell_type": "code",
   "execution_count": 86,
   "metadata": {},
   "outputs": [
    {
     "data": {
      "text/html": [
       "<div>\n",
       "<style scoped>\n",
       "    .dataframe tbody tr th:only-of-type {\n",
       "        vertical-align: middle;\n",
       "    }\n",
       "\n",
       "    .dataframe tbody tr th {\n",
       "        vertical-align: top;\n",
       "    }\n",
       "\n",
       "    .dataframe thead th {\n",
       "        text-align: right;\n",
       "    }\n",
       "</style>\n",
       "<table border=\"1\" class=\"dataframe\">\n",
       "  <thead>\n",
       "    <tr style=\"text-align: right;\">\n",
       "      <th></th>\n",
       "      <th>disciplina</th>\n",
       "      <th>nota</th>\n",
       "    </tr>\n",
       "  </thead>\n",
       "  <tbody>\n",
       "    <tr>\n",
       "      <th>62</th>\n",
       "      <td>ALGORITMOS E ESTRUTURA DE DADOS I</td>\n",
       "      <td>10.0</td>\n",
       "    </tr>\n",
       "    <tr>\n",
       "      <th>144</th>\n",
       "      <td>DESENVOLVIMENTOS DE SIST CORPORATIVOS</td>\n",
       "      <td>10.0</td>\n",
       "    </tr>\n",
       "    <tr>\n",
       "      <th>153</th>\n",
       "      <td>DESENVOLVIMENTOS DE SIST CORPORATIVOS</td>\n",
       "      <td>10.0</td>\n",
       "    </tr>\n",
       "    <tr>\n",
       "      <th>206</th>\n",
       "      <td>ETICA PROFISSIONAL</td>\n",
       "      <td>10.0</td>\n",
       "    </tr>\n",
       "    <tr>\n",
       "      <th>215</th>\n",
       "      <td>ETICA PROFISSIONAL</td>\n",
       "      <td>10.0</td>\n",
       "    </tr>\n",
       "    <tr>\n",
       "      <th>216</th>\n",
       "      <td>ETICA PROFISSIONAL</td>\n",
       "      <td>10.0</td>\n",
       "    </tr>\n",
       "    <tr>\n",
       "      <th>220</th>\n",
       "      <td>ETICA PROFISSIONAL</td>\n",
       "      <td>10.0</td>\n",
       "    </tr>\n",
       "    <tr>\n",
       "      <th>223</th>\n",
       "      <td>ETICA PROFISSIONAL</td>\n",
       "      <td>10.0</td>\n",
       "    </tr>\n",
       "    <tr>\n",
       "      <th>231</th>\n",
       "      <td>ETICA PROFISSIONAL</td>\n",
       "      <td>10.0</td>\n",
       "    </tr>\n",
       "    <tr>\n",
       "      <th>232</th>\n",
       "      <td>ETICA PROFISSIONAL</td>\n",
       "      <td>10.0</td>\n",
       "    </tr>\n",
       "    <tr>\n",
       "      <th>233</th>\n",
       "      <td>ETICA PROFISSIONAL</td>\n",
       "      <td>10.0</td>\n",
       "    </tr>\n",
       "    <tr>\n",
       "      <th>236</th>\n",
       "      <td>ETICA PROFISSIONAL</td>\n",
       "      <td>10.0</td>\n",
       "    </tr>\n",
       "    <tr>\n",
       "      <th>237</th>\n",
       "      <td>ETICA PROFISSIONAL</td>\n",
       "      <td>10.0</td>\n",
       "    </tr>\n",
       "    <tr>\n",
       "      <th>238</th>\n",
       "      <td>ETICA PROFISSIONAL</td>\n",
       "      <td>10.0</td>\n",
       "    </tr>\n",
       "    <tr>\n",
       "      <th>305</th>\n",
       "      <td>INTRODUCAO A PROGRAMACAO</td>\n",
       "      <td>10.0</td>\n",
       "    </tr>\n",
       "    <tr>\n",
       "      <th>318</th>\n",
       "      <td>INTRODUCAO A PROGRAMACAO</td>\n",
       "      <td>10.0</td>\n",
       "    </tr>\n",
       "    <tr>\n",
       "      <th>322</th>\n",
       "      <td>INTRODUCAO A PROGRAMACAO</td>\n",
       "      <td>10.0</td>\n",
       "    </tr>\n",
       "    <tr>\n",
       "      <th>514</th>\n",
       "      <td>PESQUISA APLIC A SISTEMAS DE INFORMACAO</td>\n",
       "      <td>10.0</td>\n",
       "    </tr>\n",
       "  </tbody>\n",
       "</table>\n",
       "</div>"
      ],
      "text/plain": [
       "                                  disciplina  nota\n",
       "62         ALGORITMOS E ESTRUTURA DE DADOS I  10.0\n",
       "144    DESENVOLVIMENTOS DE SIST CORPORATIVOS  10.0\n",
       "153    DESENVOLVIMENTOS DE SIST CORPORATIVOS  10.0\n",
       "206                       ETICA PROFISSIONAL  10.0\n",
       "215                       ETICA PROFISSIONAL  10.0\n",
       "216                       ETICA PROFISSIONAL  10.0\n",
       "220                       ETICA PROFISSIONAL  10.0\n",
       "223                       ETICA PROFISSIONAL  10.0\n",
       "231                       ETICA PROFISSIONAL  10.0\n",
       "232                       ETICA PROFISSIONAL  10.0\n",
       "233                       ETICA PROFISSIONAL  10.0\n",
       "236                       ETICA PROFISSIONAL  10.0\n",
       "237                       ETICA PROFISSIONAL  10.0\n",
       "238                       ETICA PROFISSIONAL  10.0\n",
       "305                 INTRODUCAO A PROGRAMACAO  10.0\n",
       "318                 INTRODUCAO A PROGRAMACAO  10.0\n",
       "322                 INTRODUCAO A PROGRAMACAO  10.0\n",
       "514  PESQUISA APLIC A SISTEMAS DE INFORMACAO  10.0"
      ]
     },
     "execution_count": 86,
     "metadata": {},
     "output_type": "execute_result"
    }
   ],
   "source": [
    "# INSIRA SEU CÓDIGO AQUI\n",
    "dataset[dataset['nota'] >= 10]\n"
   ]
  },
  {
   "cell_type": "markdown",
   "metadata": {},
   "source": [
    "#### Mostre apenas as notas da disciplina \"SISTEMAS DISTRIBUIDOS\", ordenadas da maior para a menor nota"
   ]
  },
  {
   "cell_type": "code",
   "execution_count": 87,
   "metadata": {},
   "outputs": [
    {
     "data": {
      "text/html": [
       "<div>\n",
       "<style scoped>\n",
       "    .dataframe tbody tr th:only-of-type {\n",
       "        vertical-align: middle;\n",
       "    }\n",
       "\n",
       "    .dataframe tbody tr th {\n",
       "        vertical-align: top;\n",
       "    }\n",
       "\n",
       "    .dataframe thead th {\n",
       "        text-align: right;\n",
       "    }\n",
       "</style>\n",
       "<table border=\"1\" class=\"dataframe\">\n",
       "  <thead>\n",
       "    <tr style=\"text-align: right;\">\n",
       "      <th></th>\n",
       "      <th>disciplina</th>\n",
       "      <th>nota</th>\n",
       "    </tr>\n",
       "  </thead>\n",
       "  <tbody>\n",
       "    <tr>\n",
       "      <th>608</th>\n",
       "      <td>SISTEMAS DISTRIBUIDOS</td>\n",
       "      <td>9.6</td>\n",
       "    </tr>\n",
       "    <tr>\n",
       "      <th>604</th>\n",
       "      <td>SISTEMAS DISTRIBUIDOS</td>\n",
       "      <td>9.4</td>\n",
       "    </tr>\n",
       "    <tr>\n",
       "      <th>605</th>\n",
       "      <td>SISTEMAS DISTRIBUIDOS</td>\n",
       "      <td>9.2</td>\n",
       "    </tr>\n",
       "    <tr>\n",
       "      <th>610</th>\n",
       "      <td>SISTEMAS DISTRIBUIDOS</td>\n",
       "      <td>9.2</td>\n",
       "    </tr>\n",
       "    <tr>\n",
       "      <th>611</th>\n",
       "      <td>SISTEMAS DISTRIBUIDOS</td>\n",
       "      <td>9.0</td>\n",
       "    </tr>\n",
       "    <tr>\n",
       "      <th>616</th>\n",
       "      <td>SISTEMAS DISTRIBUIDOS</td>\n",
       "      <td>8.2</td>\n",
       "    </tr>\n",
       "    <tr>\n",
       "      <th>614</th>\n",
       "      <td>SISTEMAS DISTRIBUIDOS</td>\n",
       "      <td>7.9</td>\n",
       "    </tr>\n",
       "    <tr>\n",
       "      <th>617</th>\n",
       "      <td>SISTEMAS DISTRIBUIDOS</td>\n",
       "      <td>7.9</td>\n",
       "    </tr>\n",
       "    <tr>\n",
       "      <th>612</th>\n",
       "      <td>SISTEMAS DISTRIBUIDOS</td>\n",
       "      <td>7.5</td>\n",
       "    </tr>\n",
       "    <tr>\n",
       "      <th>615</th>\n",
       "      <td>SISTEMAS DISTRIBUIDOS</td>\n",
       "      <td>7.3</td>\n",
       "    </tr>\n",
       "    <tr>\n",
       "      <th>619</th>\n",
       "      <td>SISTEMAS DISTRIBUIDOS</td>\n",
       "      <td>7.2</td>\n",
       "    </tr>\n",
       "    <tr>\n",
       "      <th>606</th>\n",
       "      <td>SISTEMAS DISTRIBUIDOS</td>\n",
       "      <td>7.1</td>\n",
       "    </tr>\n",
       "    <tr>\n",
       "      <th>618</th>\n",
       "      <td>SISTEMAS DISTRIBUIDOS</td>\n",
       "      <td>5.8</td>\n",
       "    </tr>\n",
       "    <tr>\n",
       "      <th>613</th>\n",
       "      <td>SISTEMAS DISTRIBUIDOS</td>\n",
       "      <td>5.6</td>\n",
       "    </tr>\n",
       "    <tr>\n",
       "      <th>607</th>\n",
       "      <td>SISTEMAS DISTRIBUIDOS</td>\n",
       "      <td>5.4</td>\n",
       "    </tr>\n",
       "    <tr>\n",
       "      <th>609</th>\n",
       "      <td>SISTEMAS DISTRIBUIDOS</td>\n",
       "      <td>5.3</td>\n",
       "    </tr>\n",
       "  </tbody>\n",
       "</table>\n",
       "</div>"
      ],
      "text/plain": [
       "                disciplina  nota\n",
       "608  SISTEMAS DISTRIBUIDOS   9.6\n",
       "604  SISTEMAS DISTRIBUIDOS   9.4\n",
       "605  SISTEMAS DISTRIBUIDOS   9.2\n",
       "610  SISTEMAS DISTRIBUIDOS   9.2\n",
       "611  SISTEMAS DISTRIBUIDOS   9.0\n",
       "616  SISTEMAS DISTRIBUIDOS   8.2\n",
       "614  SISTEMAS DISTRIBUIDOS   7.9\n",
       "617  SISTEMAS DISTRIBUIDOS   7.9\n",
       "612  SISTEMAS DISTRIBUIDOS   7.5\n",
       "615  SISTEMAS DISTRIBUIDOS   7.3\n",
       "619  SISTEMAS DISTRIBUIDOS   7.2\n",
       "606  SISTEMAS DISTRIBUIDOS   7.1\n",
       "618  SISTEMAS DISTRIBUIDOS   5.8\n",
       "613  SISTEMAS DISTRIBUIDOS   5.6\n",
       "607  SISTEMAS DISTRIBUIDOS   5.4\n",
       "609  SISTEMAS DISTRIBUIDOS   5.3"
      ]
     },
     "execution_count": 87,
     "metadata": {},
     "output_type": "execute_result"
    }
   ],
   "source": [
    "# INSIRA SEU CÓDIGO AQUI\n",
    "notas_sistemas = dataset[dataset[\"disciplina\"] == \"SISTEMAS DISTRIBUIDOS\"]\n",
    "notas_sistemas.sort_values(by=\"nota\", ascending=False)"
   ]
  },
  {
   "cell_type": "markdown",
   "metadata": {},
   "source": [
    "### Média geral das disciplinas\n",
    "\n",
    "Crie um novo dataframe que agrupe os dados por disciplina e aplique uma função de agregação que calcule a **média** geral das notas de cada disciplina.\n",
    "Cada disciplina terá apenas uma linha com o seu nome e média das notas de todos os alunos daquela disciplina.\n",
    "Exiba o dataframe para visualizar se deu certo."
   ]
  },
  {
   "cell_type": "code",
   "execution_count": 88,
   "metadata": {},
   "outputs": [],
   "source": [
    "# INSIRA SEU CÓDIGO AQUI"
   ]
  },
  {
   "cell_type": "markdown",
   "metadata": {},
   "source": [
    "#### Qual disciplina teve a maior média?"
   ]
  },
  {
   "cell_type": "code",
   "execution_count": 89,
   "metadata": {},
   "outputs": [],
   "source": [
    "# INSIRA SEU CÓDIGO AQUI"
   ]
  },
  {
   "cell_type": "markdown",
   "metadata": {},
   "source": [
    "#### Qual disciplina teve a menor média?"
   ]
  },
  {
   "cell_type": "code",
   "execution_count": 90,
   "metadata": {},
   "outputs": [],
   "source": [
    "# INSIRA SEU CÓDIGO AQUI"
   ]
  },
  {
   "cell_type": "markdown",
   "metadata": {},
   "source": [
    "### Quantidade de alunos por disciplina\n",
    "\n",
    "Crie um novo dataframe que calcule a quantidade de alunos por disciplina."
   ]
  },
  {
   "cell_type": "code",
   "execution_count": 91,
   "metadata": {},
   "outputs": [],
   "source": [
    "# INSIRA SEU CÓDIGO AQUI"
   ]
  },
  {
   "cell_type": "markdown",
   "metadata": {},
   "source": [
    "#### Qual disciplina teve a maior quantidade de alunos?"
   ]
  },
  {
   "cell_type": "code",
   "execution_count": 92,
   "metadata": {},
   "outputs": [],
   "source": [
    "# INSIRA SEU CÓDIGO AQUI"
   ]
  },
  {
   "cell_type": "markdown",
   "metadata": {},
   "source": [
    "#### Qual disciplina teve a menor quantidade de alunos?"
   ]
  },
  {
   "cell_type": "code",
   "execution_count": 93,
   "metadata": {},
   "outputs": [],
   "source": [
    "# INSIRA SEU CÓDIGO AQUI"
   ]
  },
  {
   "cell_type": "markdown",
   "metadata": {},
   "source": [
    "### Percentual de aprovados por disciplina\n",
    "\n",
    "Crie um novo dataframe que calcule o percentual de alunos por disciplina, considerando que a nota mínima para aprovação é 5.\n"
   ]
  },
  {
   "cell_type": "code",
   "execution_count": 94,
   "metadata": {},
   "outputs": [],
   "source": [
    "# INSIRA SEU CÓDIGO AQUI"
   ]
  },
  {
   "cell_type": "markdown",
   "metadata": {},
   "source": [
    "#### Qual a disciplina com a maior taxa de aprovação?\n"
   ]
  },
  {
   "cell_type": "code",
   "execution_count": 95,
   "metadata": {},
   "outputs": [],
   "source": [
    "# INSIRA SEU CÓDIGO AQUI"
   ]
  },
  {
   "cell_type": "markdown",
   "metadata": {},
   "source": [
    "#### Qual a disciplina com a menor taxa de aprovação?\n"
   ]
  },
  {
   "cell_type": "code",
   "execution_count": 96,
   "metadata": {},
   "outputs": [],
   "source": [
    "# INSIRA SEU CÓDIGO AQUI"
   ]
  }
 ],
 "metadata": {
  "kernelspec": {
   "display_name": "Python 3.10.1 64-bit",
   "language": "python",
   "name": "python3"
  },
  "language_info": {
   "codemirror_mode": {
    "name": "ipython",
    "version": 3
   },
   "file_extension": ".py",
   "mimetype": "text/x-python",
   "name": "python",
   "nbconvert_exporter": "python",
   "pygments_lexer": "ipython3",
   "version": "3.11.5"
  },
  "orig_nbformat": 4,
  "vscode": {
   "interpreter": {
    "hash": "369f2c481f4da34e4445cda3fffd2e751bd1c4d706f27375911949ba6bb62e1c"
   }
  }
 },
 "nbformat": 4,
 "nbformat_minor": 2
}
